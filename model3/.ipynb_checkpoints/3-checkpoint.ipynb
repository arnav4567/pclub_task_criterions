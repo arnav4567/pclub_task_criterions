{
 "cells": [
  {
   "cell_type": "code",
   "execution_count": null,
   "id": "15d5a7b1",
   "metadata": {},
   "outputs": [],
   "source": [
    "import numpy as np\n",
    "import matplotlib.pyplot as plt\n",
    "\n",
    "train_inp = np.loadtxt('train_input.csv', delimiter=',')\n",
    "train_out = np.loadtxt('train_output.csv', delimiter=',')\n",
    "test_inp = np.loadtxt('test_input.csv', delimiter=',')\n",
    "test_out = np.loadtxt('test_output.csv', delimiter=',')\n",
    "\n",
    "alpha = 0.0000001\n",
    "iters = 9000\n",
    "theta = [0.01, 1.0, 1.0]\n",
    "\n",
    "def computeCost(X, y, theta): \n",
    "    sum=0\n",
    "    for i in range(len(X)):\n",
    "        sum+=abs(np.power(theta[0]*X[i]*X[i] + theta[1]*X[i] + theta[2]- y[i],4))\n",
    "    return sum/4*(len(X))           #4 divided to facilitate easy calculation later on\n",
    "\n",
    "def gradientDescentm5e(X, y, theta, alpha, iters):\n",
    "    prevcost = 1e21\n",
    "    for i in range(iters):\n",
    "        temp=0\n",
    "        a=0\n",
    "        b=0\n",
    "        for j in range(len(X)):\n",
    "            quan = np.power(theta[0]*X[j]*X[j] + theta[1]*X[j] + theta[2]- y[j],3)\n",
    "            temp+=quan*X[j]*X[j]\n",
    "            a+=quan*X[j]\n",
    "            b+=quan\n",
    "        theta[0] = theta[0] - (alpha/(len(X)*len(X)*len(X)*len(X)))*temp*theta[0]\n",
    "        theta[1] = theta[1] - (alpha/(len(X)*len(X)*len(X)*len(X)))*a*theta[1]\n",
    "        theta[2] = theta[2] - (alpha/(len(X)*len(X)*len(X)*len(X)))*b*theta[2]\n",
    "        cost = computeCost(X, y, theta)\n",
    "        if(cost>prevcost):\n",
    "            break\n",
    "        prevcost = cost\n",
    "        if i % 100 == 0:\n",
    "            print(cost)\n",
    "    return (theta, cost)\n",
    "\n",
    "\n",
    "(op_theta, op_cost) = gradientDescentm5e(train_inp, train_out,theta,alpha,iters)\n",
    "\n",
    "print(op_theta)\n",
    "\n",
    "preds = []\n",
    "for i in range(len(test_inp)):\n",
    "    preds.append(op_theta[0]*test_inp[i]*test_inp[i] + op_theta[1]*test_inp[i] + op_theta[2])\n",
    "\n",
    "plt.plot(test_inp,preds,'*')\n",
    "plt.plot(test_inp,test_out,'.')\n",
    "plt.show()\n",
    "plt.savefig('../model3/model3_final.jpg')\n",
    "np.savetxt('../model3/res3.csv', op_theta, delimiter=',')"
   ]
  }
 ],
 "metadata": {
  "kernelspec": {
   "display_name": "Python 3",
   "language": "python",
   "name": "python3"
  },
  "language_info": {
   "codemirror_mode": {
    "name": "ipython",
    "version": 3
   },
   "file_extension": ".py",
   "mimetype": "text/x-python",
   "name": "python",
   "nbconvert_exporter": "python",
   "pygments_lexer": "ipython3",
   "version": "3.8.8"
  }
 },
 "nbformat": 4,
 "nbformat_minor": 5
}
