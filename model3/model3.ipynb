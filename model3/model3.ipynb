import numpy as np
import matplotlib.pyplot as plt

train_inp = np.loadtxt('train_input.csv', delimiter=',')
train_out = np.loadtxt('train_output.csv', delimiter=',')
test_inp = np.loadtxt('test_input.csv', delimiter=',')
test_out = np.loadtxt('test_output.csv', delimiter=',')

alpha = 0.0000001
iters = 9000
theta = [0.01, 1.0, 1.0]

def computeCost(X, y, theta): 
    sum=0
    for i in range(len(X)):
        sum+=abs(np.power(theta[0]*X[i]*X[i] + theta[1]*X[i] + theta[2]- y[i],4))
    return sum/4*(len(X))           #4 divided to facilitate easy calculation later on

def gradientDescentm5e(X, y, theta, alpha, iters):
    prevcost = 1e21
    for i in range(iters):
        temp=0
        a=0
        b=0
        for j in range(len(X)):
            quan = np.power(theta[0]*X[j]*X[j] + theta[1]*X[j] + theta[2]- y[j],3)
            temp+=quan*X[j]*X[j]
            a+=quan*X[j]
            b+=quan
        theta[0] = theta[0] - (alpha/(len(X)*len(X)*len(X)*len(X)))*temp*theta[0]
        theta[1] = theta[1] - (alpha/(len(X)*len(X)*len(X)*len(X)))*a*theta[1]
        theta[2] = theta[2] - (alpha/(len(X)*len(X)*len(X)*len(X)))*b*theta[2]
        cost = computeCost(X, y, theta)
        if(cost>prevcost):
            break
        prevcost = cost
        if i % 100 == 0:
            print(cost)
    return (theta, cost)


(op_theta, op_cost) = gradientDescentm5e(train_inp, train_out,theta,alpha,iters)

print(op_theta)

preds = []
for i in range(len(test_inp)):
    preds.append(op_theta[0]*test_inp[i]*test_inp[i] + op_theta[1]*test_inp[i] + op_theta[2])

plt.plot(test_inp,preds,'*')
plt.plot(test_inp,test_out,'.')
plt.show()
plt.savefig('../model3/model3_final.jpg')
np.savetxt('../model3/res3.csv', op_theta, delimiter=',')