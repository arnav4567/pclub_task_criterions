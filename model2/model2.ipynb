import numpy as np
import matplotlib.pyplot as plt

train_inp = np.loadtxt('train_input.csv', delimiter=',')
train_out = np.loadtxt('train_output.csv', delimiter=',')
test_inp = np.loadtxt('test_input.csv', delimiter=',')
test_out = np.loadtxt('test_output.csv', delimiter=',')

alpha = 0.00000002
iters = 3000
theta = [1.0, 1.0]

def computeCost(X, y, theta): 
    sum=0
    for i in range(len(X)):
        sum+=abs(np.power(X[i]*theta[0] + theta[1] - y[i],3))
    return sum/3*(len(X))           #3 divided to facilitate easy calculation later on

def gradientDescentmce(X, y, theta, alpha, iters):
    prevcost = 1e21
    for i in range(iters):
        temp=0
        a=0
        for j in range(len(X)):
            quan = (X[j]*theta[0] + theta[1] - y[j])*(X[j]*theta[0] + theta[1] - y[j])
            if(X[j]*theta[0] + theta[1] > y[j]):
                temp+=quan*X[j]
                a+=quan
            else:
                temp-=quan
                a-=quan
        
        theta[0] = theta[0] - (alpha/len(X))*temp*theta[0]
        theta[1] = theta[1] - (alpha/len(X))*a*theta[1]
        cost = computeCost(X, y, theta)
        if(cost>prevcost):
            break
        prevcost = cost
        if i % 10 == 0:
            print(cost)
    return (theta, cost)


(op_theta, op_cost) = gradientDescentmce(train_inp, train_out,theta,alpha,iters)

print(op_theta)

preds = []
for i in range(len(test_inp)):
    preds.append(op_theta[0]*test_inp[i] + op_theta[1])

plt.plot(test_inp,preds,'*')
plt.plot(test_inp,test_out,'.')
plt.show()
plt.savefig('../model2/model2_final.jpg')
np.savetxt('../model2/res2.csv', op_theta, delimiter=',')