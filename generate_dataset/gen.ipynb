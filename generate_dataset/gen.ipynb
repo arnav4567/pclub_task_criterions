{
 "cells": [
  {
   "cell_type": "code",
   "execution_count": null,
   "id": "04d98fac",
   "metadata": {},
   "outputs": [],
   "source": [
    "import numpy as np\n",
    "import matplotlib.pyplot as plt\n",
    "\n",
    "\n",
    "a = 0.0005\n",
    "b = 0.1\n",
    "c = 2.5        #parameters for the line y = m*x+c\n",
    "size = 300       #size of the dataset\n",
    "inp = np.array([0]*size)\n",
    "for i in range(size):\n",
    "    inp[i] = i\n",
    "\n",
    "noise = np.random.normal(0, 7.5, inp.shape)    \n",
    "no_noise_out = np.array([0]*size)\n",
    "for i in range(size):\n",
    "    no_noise_out[i]=a*inp[i]*inp[i]+b*inp[i]+c\n",
    "\n",
    "out = noise + no_noise_out\n",
    "\n",
    "plt.plot(inp,out,'*')\n",
    "plt.show()\n",
    "plt.savefig(\"data.jpg\")\n",
    "\n",
    "np.savetxt('input_data.csv', inp, delimiter=',')\n",
    "np.savetxt('output_data.csv', out, delimiter=',')"
   ]
  }
 ],
 "metadata": {
  "kernelspec": {
   "display_name": "Python 3",
   "language": "python",
   "name": "python3"
  },
  "language_info": {
   "codemirror_mode": {
    "name": "ipython",
    "version": 3
   },
   "file_extension": ".py",
   "mimetype": "text/x-python",
   "name": "python",
   "nbconvert_exporter": "python",
   "pygments_lexer": "ipython3",
   "version": "3.8.8"
  }
 },
 "nbformat": 4,
 "nbformat_minor": 5
}
