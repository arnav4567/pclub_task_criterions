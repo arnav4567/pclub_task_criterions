import numpy as np
import matplotlib.pyplot as plt


a = 0.0005
b = 0.1
c = 2.5        #parameters for the line y = m*x+c
size = 300       #size of the dataset
inp = np.array([0]*size)
for i in range(size):
    inp[i] = i

noise = np.random.normal(0, 7.5, inp.shape)    
no_noise_out = np.array([0]*size)
for i in range(size):
    no_noise_out[i]=a*inp[i]*inp[i]+b*inp[i]+c

out = noise + no_noise_out

plt.plot(inp,out,'*')
plt.show()
plt.savefig("data.jpg")

np.savetxt('input_data.csv', inp, delimiter=',')
np.savetxt('output_data.csv', out, delimiter=',')
#---------------------------------------------------------------------------#
