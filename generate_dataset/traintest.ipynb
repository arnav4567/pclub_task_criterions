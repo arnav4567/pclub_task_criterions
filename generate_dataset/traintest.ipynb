{
 "cells": [
  {
   "cell_type": "code",
   "execution_count": null,
   "id": "3c962d6b",
   "metadata": {},
   "outputs": [],
   "source": [
    "import numpy as np\n",
    "import matplotlib.pyplot as plt\n",
    "import random as rn\n",
    "\n",
    "inp_data = np.loadtxt('input_data.csv', delimiter=',')\n",
    "out_data = np.loadtxt('output_data.csv', delimiter=',')\n",
    "\n",
    "                #now we want to use about 2/3rd of the data for training and 1/3rd to test our model (randomised sampling)\n",
    "train_inp = []\n",
    "train_out = []\n",
    "test_inp = []\n",
    "results = []    \n",
    "\n",
    "for i in range(len(inp_data)): #roughly 67% chance for each entry to go to training data.\n",
    "    n = rn.randint(1,31)\n",
    "    if(n>20):\n",
    "        test_inp.append(inp_data[i])\n",
    "        results.append(out_data[i])\n",
    "    else:\n",
    "        train_inp.append(inp_data[i])\n",
    "        train_out.append(out_data[i])\n",
    "\n",
    "np.savetxt('train_input.csv', train_inp, delimiter=',')\n",
    "np.savetxt('train_output.csv', train_out, delimiter=',')\n",
    "np.savetxt('test_input.csv', test_inp, delimiter=',')\n",
    "np.savetxt('test_output.csv', results, delimiter=',')"
   ]
  }
 ],
 "metadata": {
  "kernelspec": {
   "display_name": "Python 3",
   "language": "python",
   "name": "python3"
  },
  "language_info": {
   "codemirror_mode": {
    "name": "ipython",
    "version": 3
   },
   "file_extension": ".py",
   "mimetype": "text/x-python",
   "name": "python",
   "nbconvert_exporter": "python",
   "pygments_lexer": "ipython3",
   "version": "3.8.8"
  }
 },
 "nbformat": 4,
 "nbformat_minor": 5
}
