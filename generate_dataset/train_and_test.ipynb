import numpy as np
import matplotlib.pyplot as plt
import random as rn

inp_data = np.loadtxt('input_data.csv', delimiter=',')
out_data = np.loadtxt('output_data.csv', delimiter=',')

                #now we want to use about 2/3rd of the data for training and 1/3rd to test our model (randomised sampling)
train_inp = []
train_out = []
test_inp = []
results = []    

for i in range(len(inp_data)): #roughly 67% chance for each entry to go to training data.
    n = rn.randint(1,31)
    if(n>20):
        test_inp.append(inp_data[i])
        results.append(out_data[i])
    else:
        train_inp.append(inp_data[i])
        train_out.append(out_data[i])

np.savetxt('train_input.csv', train_inp, delimiter=',')
np.savetxt('train_output.csv', train_out, delimiter=',')
np.savetxt('test_input.csv', test_inp, delimiter=',')
np.savetxt('test_output.csv', results, delimiter=',')

